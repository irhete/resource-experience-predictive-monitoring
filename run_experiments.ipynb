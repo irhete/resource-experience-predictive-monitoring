{
 "cells": [
  {
   "cell_type": "code",
   "execution_count": 1,
   "metadata": {
    "collapsed": true
   },
   "outputs": [],
   "source": [
    "import subprocess\n",
    "import time"
   ]
  },
  {
   "cell_type": "markdown",
   "metadata": {},
   "source": [
    "# Extract resource features"
   ]
  },
  {
   "cell_type": "code",
   "execution_count": 56,
   "metadata": {
    "collapsed": true
   },
   "outputs": [],
   "source": [
    "dataset = \"traffic_fines_1\"\n",
    "output_dir = \"data_with_exp\""
   ]
  },
  {
   "cell_type": "code",
   "execution_count": 57,
   "metadata": {},
   "outputs": [],
   "source": [
    "if \"bpic2017\" in dataset or \"hospital_billing\" in dataset:\n",
    "    memory = 30000\n",
    "else:\n",
    "    memory = 10000"
   ]
  },
  {
   "cell_type": "code",
   "execution_count": 60,
   "metadata": {},
   "outputs": [
    {
     "data": {
      "text/plain": [
       "<subprocess.Popen at 0x7fc0f574c2b0>"
      ]
     },
     "execution_count": 60,
     "metadata": {},
     "output_type": "execute_result"
    }
   ],
   "source": [
    "with open(\"run.sh\", \"w\") as fout:\n",
    "    fout.write(\"#!/bin/bash\\n\")\n",
    "    fout.write(\"#SBATCH --output=output_files/output_extract_%s.csv\\n\" % (dataset))\n",
    "    fout.write(\"#SBATCH --mem=%s\\n\" % memory)\n",
    "    fout.write(\"#SBATCH --time=3-00\\n\")\n",
    "\n",
    "    fout.write(\"python extract_resource_features.py %s %s\" % (dataset, output_dir))\n",
    "    \n",
    "time.sleep(5)\n",
    "subprocess.Popen(\"sbatch run.sh\".split())"
   ]
  },
  {
   "cell_type": "code",
   "execution_count": null,
   "metadata": {
    "collapsed": true
   },
   "outputs": [],
   "source": []
  },
  {
   "cell_type": "markdown",
   "metadata": {},
   "source": [
    "# Hyperparameter optimization"
   ]
  },
  {
   "cell_type": "code",
   "execution_count": 111,
   "metadata": {
    "collapsed": true
   },
   "outputs": [],
   "source": [
    "dataset = \"bpic2012_declined_exp\"\n",
    "output_dir = \"val_results\""
   ]
  },
  {
   "cell_type": "code",
   "execution_count": 112,
   "metadata": {
    "collapsed": true
   },
   "outputs": [],
   "source": [
    "if \"bpic2017\" in dataset or \"hospital_billing\":\n",
    "    memory = 30000\n",
    "else:\n",
    "    memory = 10000"
   ]
  },
  {
   "cell_type": "code",
   "execution_count": 113,
   "metadata": {},
   "outputs": [
    {
     "data": {
      "text/plain": [
       "<subprocess.Popen at 0x7f2f68569b00>"
      ]
     },
     "execution_count": 113,
     "metadata": {},
     "output_type": "execute_result"
    }
   ],
   "source": [
    "with open(\"run.sh\", \"w\") as fout:\n",
    "    fout.write(\"#!/bin/bash\\n\")\n",
    "    fout.write(\"#SBATCH --output=output_files/output_val_%s.csv\\n\" % (dataset))\n",
    "    fout.write(\"#SBATCH --mem=%s\\n\" % memory)\n",
    "    fout.write(\"#SBATCH --time=3-00\\n\")\n",
    "\n",
    "    fout.write(\"python validate.py %s %s\" % (dataset, output_dir))\n",
    "    \n",
    "time.sleep(5)\n",
    "subprocess.Popen(\"sbatch run.sh\".split())"
   ]
  },
  {
   "cell_type": "code",
   "execution_count": null,
   "metadata": {
    "collapsed": true
   },
   "outputs": [],
   "source": []
  },
  {
   "cell_type": "markdown",
   "metadata": {},
   "source": [
    "# Final results"
   ]
  },
  {
   "cell_type": "code",
   "execution_count": 64,
   "metadata": {},
   "outputs": [],
   "source": [
    "dataset = \"traffic_fines_1\"\n",
    "output_dir = \"results_xgb\"\n",
    "cls_method = \"xgb\"\n",
    "if cls_method == \"rf\":\n",
    "    optimal_params_file = \"optimal_params.pickle\"\n",
    "else:\n",
    "    optimal_params_file = None"
   ]
  },
  {
   "cell_type": "code",
   "execution_count": 65,
   "metadata": {
    "collapsed": true
   },
   "outputs": [],
   "source": [
    "if \"bpic2017\" in dataset or \"hospital_billing\" in dataset:\n",
    "    memory = 30000\n",
    "else:\n",
    "    memory = 10000"
   ]
  },
  {
   "cell_type": "code",
   "execution_count": 66,
   "metadata": {},
   "outputs": [
    {
     "data": {
      "text/plain": [
       "<subprocess.Popen at 0x7ff7fc624208>"
      ]
     },
     "execution_count": 66,
     "metadata": {},
     "output_type": "execute_result"
    }
   ],
   "source": [
    "with open(\"run.sh\", \"w\") as fout:\n",
    "    fout.write(\"#!/bin/bash\\n\")\n",
    "    fout.write(\"#SBATCH --output=output_files/output_final_%s_%s.csv\\n\" % (dataset, cls_method))\n",
    "    fout.write(\"#SBATCH --mem=%s\\n\" % memory)\n",
    "    fout.write(\"#SBATCH --time=3-00\\n\")\n",
    "\n",
    "    fout.write(\"python train_evaluate_final.py %s %s %s %s\" % (dataset, cls_method, output_dir, optimal_params_file))\n",
    "    \n",
    "time.sleep(5)\n",
    "subprocess.Popen(\"sbatch run.sh\".split())"
   ]
  },
  {
   "cell_type": "code",
   "execution_count": null,
   "metadata": {
    "collapsed": true
   },
   "outputs": [],
   "source": []
  }
 ],
 "metadata": {
  "kernelspec": {
   "display_name": "Python [default]",
   "language": "python",
   "name": "python3"
  },
  "language_info": {
   "codemirror_mode": {
    "name": "ipython",
    "version": 3
   },
   "file_extension": ".py",
   "mimetype": "text/x-python",
   "name": "python",
   "nbconvert_exporter": "python",
   "pygments_lexer": "ipython3",
   "version": "3.5.4"
  }
 },
 "nbformat": 4,
 "nbformat_minor": 1
}
