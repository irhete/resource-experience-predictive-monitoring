{
 "cells": [
  {
   "cell_type": "code",
   "execution_count": 1,
   "metadata": {
    "collapsed": true
   },
   "outputs": [],
   "source": [
    "import pandas as pd\n",
    "import glob\n",
    "import os"
   ]
  },
  {
   "cell_type": "code",
   "execution_count": 2,
   "metadata": {},
   "outputs": [],
   "source": [
    "params = {}\n",
    "\n",
    "for file in glob.glob(\"val_results/*\"):\n",
    "    if os.path.getsize(file) > 0:\n",
    "        data = pd.read_csv(file, sep=\";\")\n",
    "        tmp = data.groupby([\"dataset\", \"method\", \"cls\", \"n_estimators\", \"max_features\", \"nr_events\", \"metric\"]).mean().reset_index()\n",
    "        params[tmp.dataset.iloc[0]] = {}\n",
    "        params[tmp.dataset.iloc[0]][\"max_features\"] = tmp[tmp.score==tmp.score.max()][\"max_features\"].iloc[0]\n",
    "        params[tmp.dataset.iloc[0]][\"n_estimators\"] = tmp[tmp.score==tmp.score.max()][\"n_estimators\"].iloc[0]"
   ]
  },
  {
   "cell_type": "code",
   "execution_count": 3,
   "metadata": {},
   "outputs": [
    {
     "data": {
      "text/plain": [
       "{'bpic2012_accepted': {'max_features': 0.10000000000000001,\n",
       "  'n_estimators': 500},\n",
       " 'bpic2012_accepted_exp': {'max_features': 0.10000000000000001,\n",
       "  'n_estimators': 500},\n",
       " 'bpic2012_cancelled': {'max_features': 0.10000000000000001,\n",
       "  'n_estimators': 500},\n",
       " 'bpic2012_cancelled_exp': {'max_features': 0.10000000000000001,\n",
       "  'n_estimators': 500},\n",
       " 'bpic2012_declined': {'max_features': 0.10000000000000001,\n",
       "  'n_estimators': 500},\n",
       " 'bpic2012_declined_exp': {'max_features': 0.10000000000000001,\n",
       "  'n_estimators': 500},\n",
       " 'bpic2015_1': {'max_features': 0.25, 'n_estimators': 500},\n",
       " 'bpic2015_1_exp': {'max_features': 0.25, 'n_estimators': 500},\n",
       " 'bpic2015_2': {'max_features': 0.10000000000000001, 'n_estimators': 500},\n",
       " 'bpic2015_2_exp': {'max_features': 0.10000000000000001, 'n_estimators': 500},\n",
       " 'bpic2015_3': {'max_features': 0.10000000000000001, 'n_estimators': 500},\n",
       " 'bpic2015_3_exp': {'max_features': 0.5, 'n_estimators': 500},\n",
       " 'bpic2015_4': {'max_features': 0.10000000000000001, 'n_estimators': 500},\n",
       " 'bpic2015_4_exp': {'max_features': 0.25, 'n_estimators': 500},\n",
       " 'bpic2015_5': {'max_features': 0.10000000000000001, 'n_estimators': 500},\n",
       " 'bpic2015_5_exp': {'max_features': 0.25, 'n_estimators': 500},\n",
       " 'bpic2017_accepted': {'max_features': 0.10000000000000001,\n",
       "  'n_estimators': 500},\n",
       " 'bpic2017_accepted_exp': {'max_features': 0.10000000000000001,\n",
       "  'n_estimators': 500},\n",
       " 'bpic2017_cancelled': {'max_features': 0.10000000000000001,\n",
       "  'n_estimators': 500},\n",
       " 'bpic2017_cancelled_exp': {'max_features': 0.10000000000000001,\n",
       "  'n_estimators': 500},\n",
       " 'bpic2017_refused': {'max_features': 0.10000000000000001,\n",
       "  'n_estimators': 500},\n",
       " 'bpic2017_refused_exp': {'max_features': 0.10000000000000001,\n",
       "  'n_estimators': 500},\n",
       " 'traffic_fines_1': {'max_features': 0.25, 'n_estimators': 500},\n",
       " 'traffic_fines_1_exp': {'max_features': 0.5, 'n_estimators': 500}}"
      ]
     },
     "execution_count": 3,
     "metadata": {},
     "output_type": "execute_result"
    }
   ],
   "source": [
    "params"
   ]
  },
  {
   "cell_type": "code",
   "execution_count": 4,
   "metadata": {},
   "outputs": [],
   "source": [
    "import pickle"
   ]
  },
  {
   "cell_type": "code",
   "execution_count": 5,
   "metadata": {
    "collapsed": true
   },
   "outputs": [],
   "source": [
    "with open(\"optimal_params.pickle\", \"wb\") as output_file:\n",
    "    pickle.dump(params, output_file)"
   ]
  },
  {
   "cell_type": "code",
   "execution_count": null,
   "metadata": {
    "collapsed": true
   },
   "outputs": [],
   "source": []
  }
 ],
 "metadata": {
  "kernelspec": {
   "display_name": "Python [default]",
   "language": "python",
   "name": "python3"
  },
  "language_info": {
   "codemirror_mode": {
    "name": "ipython",
    "version": 3
   },
   "file_extension": ".py",
   "mimetype": "text/x-python",
   "name": "python",
   "nbconvert_exporter": "python",
   "pygments_lexer": "ipython3",
   "version": "3.5.4"
  }
 },
 "nbformat": 4,
 "nbformat_minor": 2
}
